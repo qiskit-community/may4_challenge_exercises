{
 "cells": [
  {
   "cell_type": "markdown",
   "metadata": {},
   "source": [
    "# Exercise 2: Measurement Error Mitigation\n",
    "\n",
    "Present day quantum computers are subject to noise of various kinds. The principle behind error mitigation is to reduce the effects from a specific source of error.  Here we will look at mitigating measurement errors, i.e., errors in determining the correct quantum state from measurements performed on qubits.\n",
    "\n",
    "<img src=\"mitigation.png\" width=\"900\"/>\n",
    "<center>Measurement Error Mitigation</center>\n",
    "\n",
    "In the above picture, you can see the outcome of applying measurement error mitigation. On the left, the histogram shows results obtained using the device `ibmq_vigo`. The ideal result should have shown 50% counts $00000$ and 50% counts $10101$. Two features are notable here:\n",
    "\n",
    "- First, notice that the result contains a skew toward $00000$. This is because of energy relaxation of the qubit during the measurement process. The relaxation takes the $\\vert1\\rangle$ state to the $\\vert0\\rangle$ state for each qubit.\n",
    "- Second, notice that the result contains other counts beyond just $00000$ and $10101$. These arise due to various errors. One example of such errors comes from the discrimination after measurement, where the signal obtained from the measurement is identified as either $\\vert0\\rangle$ or $\\vert1\\rangle$.\n",
    "\n",
    "The picture on the right shows the outcome of performing measurement error mitigation on the results. You can see that the device counts are closer to the ideal expectation of $500%$ results in $00000$ and $500%$ results in $10101$, while other counts have been significantly reduced.\n",
    "\n",
    "\n",
    "## How measurement error mitigation works\n",
    "\n",
    "\n",
    "We start by creating a set of circuits that prepare and measure each of the $2^n$ basis states, where $n$ is the number of qubits. For example, $n = 2$ qubits would prepare the states $|00\\rangle$, $|01\\rangle$, $|10\\rangle$, and $|11\\rangle$ individually and see the resulting outcomes. The outcome statistics are then captured by a matrix $M$, where the element $M_{ij}$ gives the probability to get output state $|i\\rangle$ when state $|j\\rangle$ was prepared. Even for a state that is in an arbitrary superposition $|\\psi \\rangle = \\sum_j \\alpha_j |j\\rangle$, the linearity of quantum mechanics allows us to write the noisy output state as $|\\psi_{noisy}\\rangle = M |\\psi\\rangle$.\n",
    "\n",
    "The goal of measurement error mitigation is not to model the noise, but rather to apply a classical correction that undoes the errors. Given a noisy outcome, measurement error mitigation seeks to recover the initial state that led to that outcome. Using linear algebra we can see that given a noisy outcome $|\\psi_{noisy}\\rangle$, this can be done by applying the inverse of the matrix $M$, i.e., $|\\psi \\rangle = M^{-1} |\\psi_{noisy}\\rangle$.  Note that the matrix $M$ recovered from the measurements is usually non-invertible, thus requiring a generalized inverse method to solve.  Additionally, the noise is not deterministic, and has fluctuations, so this will in general not give you the ideal noise-free state, but it should bring you closer to it.\n",
    "\n",
    "You can find a more detailed description of measurement error mitigation in [Chapter 5.2](https://qiskit.org/textbook/ch-quantum-hardware/measurement-error-mitigation.html) of the Qiskit textbook.\n",
    "\n",
    "**The goal of this exercise is to create a calibration matrix $M$ that you can apply to noisy results (provided by us) to infer the noise-free results.**\n",
    "\n",
    "---\n",
    "For useful tips to complete this exercise as well as pointers for communicating with other participants and asking questions, please take a look at the following [repository](https://github.com/qiskit-community/may4_challenge_exercises). You will also find a copy of these exercises, so feel free to edit and experiment with these notebooks.\n",
    "\n",
    "---\n",
    "\n",
    "In Qiskit, creating the circuits that test all basis states to replace the entries for the matrix is done by the following code:"
   ]
  },
  {
   "cell_type": "code",
   "execution_count": null,
   "metadata": {},
   "outputs": [],
   "source": [
    "#initialization\n",
    "%matplotlib inline\n",
    "\n",
    "# Importing standard Qiskit libraries and configuring account\n",
    "from qiskit import IBMQ\n",
    "from qiskit.compiler import transpile, assemble\n",
    "from qiskit.providers.ibmq import least_busy\n",
    "from qiskit.tools.jupyter import *\n",
    "from qiskit.tools.monitor import job_monitor\n",
    "from qiskit.visualization import *\n",
    "from qiskit.ignis.mitigation.measurement import complete_meas_cal, CompleteMeasFitter\n",
    "\n",
    "\n",
    "provider = IBMQ.load_account() # load your IBM Quantum Experience account\n",
    "# If you are a member of the IBM Q Network, fill your hub, group, and project information to\n",
    "# get access to your premium devices.\n",
    "# provider = IBMQ.get_provider(hub='', group='', project='')\n",
    "\n",
    "from may4_challenge.ex2 import get_counts, show_final_answer\n",
    "\n",
    "num_qubits = 5\n",
    "meas_calibs, state_labels = complete_meas_cal(range(num_qubits), circlabel='mcal')"
   ]
  },
  {
   "cell_type": "markdown",
   "metadata": {},
   "source": [
    "Next, run these circuits on a real device! You can choose your favorite device, but we recommend choosing the least busy one to decrease your wait time in the queue. Upon executing the following cell you will be presented with a widget that displays all the information about the least busy backend that was selected.  Clicking on the \"Error Map\" tab will reveal the latest noise information for the device.  Important for this challenge is the \"readout\" (measurement) error located on the left (and possibly right) side of the figure.  It is common to see readout errors of a few percent on each qubit.  These are the errors we are mitigating in this exercise."
   ]
  },
  {
   "cell_type": "code",
   "execution_count": null,
   "metadata": {},
   "outputs": [],
   "source": [
    "# find the least busy device that has at least 5 qubits\n",
    "backend = least_busy(provider.backends(filters=lambda x: x.configuration().n_qubits >= num_qubits and \n",
    "                                   not x.configuration().simulator and x.status().operational==True))\n",
    "backend"
   ]
  },
  {
   "cell_type": "markdown",
   "metadata": {},
   "source": [
    "Run the next cell to implement all of the above steps. In order to average out fluctuations as much as possible, we recommend choosing the highest number of shots, i.e., `shots=8192` as shown below.\n",
    "\n",
    "The call to `transpile` maps the measurement calibration circuits to the topology of the backend being used. `backend.run()` sends the circuits to the IBM Quantum device returning a `job` instance, whereas `%qiskit_job_watcher` keeps track of where your submitted job is in the pipeline. "
   ]
  },
  {
   "cell_type": "code",
   "execution_count": null,
   "metadata": {},
   "outputs": [],
   "source": [
    "# run experiments on a real device\n",
    "shots = 8192\n",
    "experiments = transpile(meas_calibs, backend=backend, optimization_level=3)\n",
    "job = backend.run(assemble(experiments, shots=shots))\n",
    "print(job.job_id())\n",
    "%qiskit_job_watcher"
   ]
  },
  {
   "cell_type": "markdown",
   "metadata": {},
   "source": [
    "Note that you might be in the queue for quite a while. You can expand the 'IBMQ Jobs' window that just appeared in the top left corner to monitor your submitted jobs. Make sure to keep your job ID in case you ran other jobs in the meantime. You can then easily access the results once your job is finished by running\n",
    "\n",
    "```python\n",
    "job = backend.retrieve_job('YOUR_JOB_ID')\n",
    "```\n",
    "    \n",
    "Once you have the results of your job, you can create the calibration matrix and calibration plot using the following code. However, as the counts are given in a dictionary instead of a matrix, it is more convenient to use the measurement filter object that you can directly apply to the noisy counts to receive a dictionary with the mitigated counts."
   ]
  },
  {
   "cell_type": "code",
   "execution_count": null,
   "metadata": {},
   "outputs": [],
   "source": [
    "# get measurement filter\n",
    "cal_results = job.result()\n",
    "meas_fitter = CompleteMeasFitter(cal_results, state_labels, circlabel='mcal')\n",
    "meas_filter = meas_fitter.filter\n",
    "#print(meas_fitter.cal_matrix)\n",
    "meas_fitter.plot_calibration()"
   ]
  },
  {
   "cell_type": "markdown",
   "metadata": {},
   "source": [
    "In the calibration plot you can see the correct outcomes on the diagonal, while all incorrect outcomes are off-diagonal. Most of the latter are due to T1 errors depolarizing the states from $|1\\rangle$ to $|0\\rangle$ during the measurement, which causes the matrix to be asymmetric.\n",
    "\n",
    "Below, we provide you with an array of noisy counts for four different circuits. Note that as measurement error mitigation is a device-specific error correction, the array you receive depends on the backend that you have used before to create the measurement filter.\n",
    "\n",
    "**Apply the measurement filter in order to get the mitigated data. Given this mitigated data, choose which error-free outcome would be most likely.**\n",
    "\n",
    "As there are other types of errors for which we cannot correct with this method, you will not get completely noise-free results, but you should be able to guess the correct results from the trend of the mitigated results."
   ]
  },
  {
   "cell_type": "markdown",
   "metadata": {},
   "source": [
    "## i) Consider the first set of noisy counts:"
   ]
  },
  {
   "cell_type": "code",
   "execution_count": null,
   "metadata": {},
   "outputs": [],
   "source": [
    "# get noisy counts\n",
    "noisy_counts = get_counts(backend)\n",
    "plot_histogram(noisy_counts[0])"
   ]
  },
  {
   "cell_type": "code",
   "execution_count": null,
   "metadata": {},
   "outputs": [],
   "source": [
    "# apply measurement error mitigation and plot the mitigated counts\n",
    "mitigated_counts_0 = meas_filter.apply(noisy_counts[0])\n",
    "plot_histogram([mitigated_counts_0, noisy_counts[0]])"
   ]
  },
  {
   "cell_type": "markdown",
   "metadata": {},
   "source": [
    "## Which of the following histograms most likely resembles the *error-free* counts of the same circuit?\n",
    "a) <img src=\"hist_1a.png\" width=\"500\"> \n",
    "b) <img src=\"hist_1b.png\" width=\"500\"> \n",
    "c) <img src=\"hist_1c.png\" width=\"500\"> \n",
    "d) <img src=\"hist_1d.png\" width=\"500\">"
   ]
  },
  {
   "cell_type": "code",
   "execution_count": null,
   "metadata": {},
   "outputs": [],
   "source": [
    "# uncomment whatever answer you think is correct\n",
    "#answer1 = 'a'\n",
    "#answer1 = 'b'\n",
    "#answer1 = 'c'\n",
    "#answer1 = 'd'"
   ]
  },
  {
   "cell_type": "markdown",
   "metadata": {},
   "source": [
    "## ii) Consider the second set of noisy counts:"
   ]
  },
  {
   "cell_type": "code",
   "execution_count": null,
   "metadata": {},
   "outputs": [],
   "source": [
    "# plot noisy counts\n",
    "plot_histogram(noisy_counts[1])"
   ]
  },
  {
   "cell_type": "code",
   "execution_count": null,
   "metadata": {},
   "outputs": [],
   "source": [
    "# apply measurement error mitigation\n",
    "# insert your code here to do measurement error mitigation on noisy_counts[1]\n",
    "plot_histogram([mitigated_counts_1, noisy_counts[1]])"
   ]
  },
  {
   "cell_type": "markdown",
   "metadata": {},
   "source": [
    "## Which of the following histograms most likely resembles the *error-free* counts of the same circuit?\n",
    "a) <img src=\"hist_2a.png\" width=\"500\"> \n",
    "b) <img src=\"hist_2b.png\" width=\"500\"> \n",
    "c) <img src=\"hist_2c.png\" width=\"500\"> \n",
    "d) <img src=\"hist_2d.png\" width=\"500\">"
   ]
  },
  {
   "cell_type": "code",
   "execution_count": null,
   "metadata": {},
   "outputs": [],
   "source": [
    "# uncomment whatever answer you think is correct\n",
    "#answer2 = 'a'\n",
    "#answer2 = 'b'\n",
    "#answer2 = 'c'\n",
    "#answer2 = 'd'"
   ]
  },
  {
   "cell_type": "markdown",
   "metadata": {},
   "source": [
    "## iii) Next, consider the third set of noisy counts:"
   ]
  },
  {
   "cell_type": "code",
   "execution_count": null,
   "metadata": {},
   "outputs": [],
   "source": [
    "# plot noisy counts\n",
    "plot_histogram(noisy_counts[2])"
   ]
  },
  {
   "cell_type": "code",
   "execution_count": null,
   "metadata": {},
   "outputs": [],
   "source": [
    "# apply measurement error mitigation\n",
    "# insert your code here to do measurement error mitigation on noisy_counts[2]\n",
    "plot_histogram([mitigated_counts_2, noisy_counts[2]])"
   ]
  },
  {
   "cell_type": "markdown",
   "metadata": {},
   "source": [
    "## Which of the following histograms most likely resembles the *error-free* counts of the same circuit?\n",
    "a) <img src=\"hist_3a.png\" width=\"500\"> \n",
    "b) <img src=\"hist_3b.png\" width=\"500\"> \n",
    "c) <img src=\"hist_3c.png\" width=\"500\"> \n",
    "d) <img src=\"hist_3d.png\" width=\"500\">"
   ]
  },
  {
   "cell_type": "code",
   "execution_count": null,
   "metadata": {},
   "outputs": [],
   "source": [
    "# uncomment whatever answer you think is correct\n",
    "#answer3 = 'a'\n",
    "#answer3 = 'b'\n",
    "#answer3 = 'c'\n",
    "#answer3 = 'd'"
   ]
  },
  {
   "cell_type": "markdown",
   "metadata": {},
   "source": [
    "## iv) Finally, consider the fourth set of noisy counts:"
   ]
  },
  {
   "cell_type": "code",
   "execution_count": null,
   "metadata": {},
   "outputs": [],
   "source": [
    "# plot noisy counts\n",
    "plot_histogram(noisy_counts[3])"
   ]
  },
  {
   "cell_type": "code",
   "execution_count": null,
   "metadata": {},
   "outputs": [],
   "source": [
    "# apply measurement error mitigation\n",
    "# insert your code here to do measurement error mitigation on noisy_counts[3]\n",
    "plot_histogram([mitigated_counts_3, noisy_counts[3]])"
   ]
  },
  {
   "cell_type": "markdown",
   "metadata": {},
   "source": [
    "## Which of the following histograms most likely resembles the *error-free* counts of the same circuit?\n",
    "a) <img src=\"hist_4a.png\" width=\"500\"> \n",
    "b) <img src=\"hist_4b.png\" width=\"500\"> \n",
    "c) <img src=\"hist_4c.png\" width=\"500\"> \n",
    "d) <img src=\"hist_4d.png\" width=\"500\">"
   ]
  },
  {
   "cell_type": "code",
   "execution_count": null,
   "metadata": {},
   "outputs": [],
   "source": [
    "# uncomment whatever answer you think is correct\n",
    "#answer4 = 'a'\n",
    "#answer4 = 'b'\n",
    "#answer4 = 'c'\n",
    "#answer4 = 'd'"
   ]
  },
  {
   "cell_type": "markdown",
   "metadata": {},
   "source": [
    "The answer string of this exercise is just the string of all four answers. Copy and paste the output of the next line on the IBM Quantum Challenge page to complete the exercise and track your progress."
   ]
  },
  {
   "cell_type": "code",
   "execution_count": null,
   "metadata": {},
   "outputs": [],
   "source": [
    "# answer string\n",
    "show_final_answer(answer1, answer2, answer3, answer4)"
   ]
  },
  {
   "cell_type": "markdown",
   "metadata": {},
   "source": [
    "Now that you are done, move on to the next exercise!"
   ]
  }
 ],
 "metadata": {
  "kernelspec": {
   "display_name": "Python 3",
   "language": "python",
   "name": "python3"
  },
  "language_info": {
   "codemirror_mode": {
    "name": "ipython",
    "version": 3
   },
   "file_extension": ".py",
   "mimetype": "text/x-python",
   "name": "python",
   "nbconvert_exporter": "python",
   "pygments_lexer": "ipython3",
   "version": "3.7.3"
  }
 },
 "nbformat": 4,
 "nbformat_minor": 4
}
